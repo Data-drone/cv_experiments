{
 "cells": [
  {
   "cell_type": "code",
   "execution_count": 1,
   "metadata": {},
   "outputs": [],
   "source": [
    "import pytorch_lightning as pl\n",
    "import os"
   ]
  },
  {
   "cell_type": "code",
   "execution_count": 3,
   "metadata": {},
   "outputs": [
    {
     "data": {
      "text/plain": [
       "['/opt/conda/lib/python3.7/site-packages/git/ext/gitdb',\n",
       " '/home/jovyan/work/cv_experiments',\n",
       " '/opt/conda/lib/python37.zip',\n",
       " '/opt/conda/lib/python3.7',\n",
       " '/opt/conda/lib/python3.7/lib-dynload',\n",
       " '',\n",
       " '/opt/conda/lib/python3.7/site-packages',\n",
       " '/opt/captum',\n",
       " '/opt/conda/lib/python3.7/site-packages/wheel-0.34.2-py3.7.egg',\n",
       " '/opt/conda/lib/python3.7/site-packages/pytorch_lightning-0.8.0rc1-py3.7.egg',\n",
       " '/opt/conda/lib/python3.7/site-packages/IPython/extensions',\n",
       " '/home/jovyan/.ipython',\n",
       " '/opt/conda/lib/python3.7/site-packages/gitdb/ext/smmap']"
      ]
     },
     "execution_count": 3,
     "metadata": {},
     "output_type": "execute_result"
    }
   ],
   "source": [
    "import sys\n",
    "sys.path"
   ]
  },
  {
   "cell_type": "code",
   "execution_count": 4,
   "metadata": {},
   "outputs": [],
   "source": [
    "from models.lightning_classification import LightningModel"
   ]
  },
  {
   "cell_type": "markdown",
   "metadata": {},
   "source": [
    "# Loading Existing Model"
   ]
  },
  {
   "cell_type": "markdown",
   "metadata": {},
   "source": [
    "Model List"
   ]
  },
  {
   "cell_type": "code",
   "execution_count": 10,
   "metadata": {},
   "outputs": [
    {
     "name": "stdout",
     "output_type": "stream",
     "text": [
      "'resnet18_adam_cifar100epoch=13-val_loss=2.32-val_acc=0.42.ckpt'\n",
      "'resnet18_adam_cifar100epoch=14-val_loss=2.36-val_acc=0.41.ckpt'\n",
      "'resnet18_adam_cifar100epoch=15-val_loss=2.35-val_acc=0.42.ckpt'\n",
      "'resnet18_ranger_cifar100epoch=10-val_loss=2.56-val_acc=0.41.ckpt'\n",
      "'resnet18_ranger_cifar100epoch=5-val_loss=2.43-val_acc=0.40.ckpt'\n",
      "'resnet18_ranger_cifar100epoch=8-val_loss=2.43-val_acc=0.41.ckpt'\n",
      "'resnet18_sgd_cifar100epoch=4-val_loss=2.91-val_acc=0.29.ckpt'\n",
      "'resnet18_sgd_cifar100epoch=5-val_loss=2.87-val_acc=0.30.ckpt'\n",
      "'resnet18_sgd_cifar100epoch=6-val_loss=2.86-val_acc=0.32.ckpt'\n",
      "'resnet18_sgd_cifar100-epoch=7-val_loss=2.63-val_acc=0.35.ckpt'\n",
      "'resnet18_sgd_cifar100-epoch=7-val_loss=2.64-val_acc=0.34.ckpt'\n",
      "'resnet18_sgd_cifar100-epoch=7-val_loss=2.68-val_acc=0.34.ckpt'\n",
      "'resnet18_sgd_cifar100-epoch=8-val_loss=2.63-val_acc=0.34.ckpt'\n",
      "'resnet18_sgd_cifar100-epoch=8-val_loss=2.63-val_acc=0.35.ckpt'\n",
      "'resnet18_sgd_cifar100-epoch=8-val_loss=2.68-val_acc=0.34.ckpt'\n",
      "'resnet18_sgd_cifar100-epoch=9-val_loss=2.62-val_acc=0.35.ckpt'\n",
      "'resnet18_sgd_cifar100-epoch=9-val_loss=2.63-val_acc=0.34.ckpt'\n",
      "'resnet18_sgd_cifar100-epoch=9-val_loss=2.68-val_acc=0.33.ckpt'\n",
      "'resnet34_adam_cifar100epoch=15-val_loss=2.36-val_acc=0.42.ckpt'\n",
      "'resnet34_adam_cifar100epoch=16-val_loss=2.39-val_acc=0.42.ckpt'\n",
      "'resnet34_adam_cifar100epoch=17-val_loss=2.35-val_acc=0.44.ckpt'\n",
      "'resnet34_ranger_cifar100-epoch=10-val_loss=2.50-val_acc=0.39.ckpt'\n",
      "'resnet34_ranger_cifar100-epoch=11-val_loss=2.38-val_acc=0.42.ckpt'\n",
      "'resnet34_ranger_cifar100-epoch=8-val_loss=2.35-val_acc=0.40.ckpt'\n",
      "'resnet34_sgd_cifar100epoch=6-val_loss=2.94-val_acc=0.29.ckpt'\n",
      "'resnet34_sgd_cifar100epoch=7-val_loss=3.00-val_acc=0.28.ckpt'\n",
      "'resnet34_sgd_cifar100epoch=8-val_loss=2.96-val_acc=0.30.ckpt'\n",
      "'resnet50_adam_cifar100epoch=17-val_loss=2.33-val_acc=0.39.ckpt'\n",
      "'resnet50_adam_cifar100epoch=18-val_loss=2.31-val_acc=0.40.ckpt'\n",
      "'resnet50_adam_cifar100epoch=21-val_loss=2.34-val_acc=0.44.ckpt'\n",
      "'resnet50_ranger_cifar100epoch=13-val_loss=2.74-val_acc=0.38.ckpt'\n",
      "'resnet50_ranger_cifar100epoch=8-val_loss=2.83-val_acc=0.34.ckpt'\n",
      "'resnet50_ranger_cifar100epoch=9-val_loss=2.75-val_acc=0.35.ckpt'\n",
      "'resnet50_sgd_cifar100epoch=7-val_loss=3.31-val_acc=0.22.ckpt'\n",
      "'resnet50_sgd_cifar100epoch=8-val_loss=3.25-val_acc=0.24.ckpt'\n",
      "'resnet50_sgd_cifar100epoch=9-val_loss=3.31-val_acc=0.24.ckpt'\n",
      " save.json\n"
     ]
    }
   ],
   "source": [
    "%ls saved_model"
   ]
  },
  {
   "cell_type": "code",
   "execution_count": 6,
   "metadata": {},
   "outputs": [],
   "source": [
    "# reload config and json\n",
    "import json"
   ]
  },
  {
   "cell_type": "code",
   "execution_count": 8,
   "metadata": {},
   "outputs": [],
   "source": [
    "with open('saved_model/save.json', 'r') as fp:\n",
    "    hyperparams = json.load(fp)"
   ]
  },
  {
   "cell_type": "code",
   "execution_count": 9,
   "metadata": {},
   "outputs": [
    {
     "name": "stdout",
     "output_type": "stream",
     "text": [
      "=> creating new model 'resnet18'\n"
     ]
    }
   ],
   "source": [
    "model = LightningModel(hyperparams)"
   ]
  },
  {
   "cell_type": "code",
   "execution_count": 11,
   "metadata": {},
   "outputs": [
    {
     "name": "stdout",
     "output_type": "stream",
     "text": [
      "=> creating new model 'resnet18'\n"
     ]
    },
    {
     "data": {
      "text/plain": [
       "LightningModel(\n",
       "  (act_funct): ReLU(inplace=True)\n",
       "  (model): ResNet(\n",
       "    (conv1): Conv2d(3, 64, kernel_size=(7, 7), stride=(2, 2), padding=(3, 3), bias=False)\n",
       "    (bn1): BatchNorm2d(64, eps=1e-05, momentum=0.1, affine=True, track_running_stats=True)\n",
       "    (relu): ReLU(inplace=True)\n",
       "    (maxpool): MaxPool2d(kernel_size=3, stride=2, padding=1, dilation=1, ceil_mode=False)\n",
       "    (layer1): Sequential(\n",
       "      (0): BasicBlock(\n",
       "        (conv1): Conv2d(64, 64, kernel_size=(3, 3), stride=(1, 1), padding=(1, 1), bias=False)\n",
       "        (bn1): BatchNorm2d(64, eps=1e-05, momentum=0.1, affine=True, track_running_stats=True)\n",
       "        (relu): ReLU(inplace=True)\n",
       "        (conv2): Conv2d(64, 64, kernel_size=(3, 3), stride=(1, 1), padding=(1, 1), bias=False)\n",
       "        (bn2): BatchNorm2d(64, eps=1e-05, momentum=0.1, affine=True, track_running_stats=True)\n",
       "      )\n",
       "      (1): BasicBlock(\n",
       "        (conv1): Conv2d(64, 64, kernel_size=(3, 3), stride=(1, 1), padding=(1, 1), bias=False)\n",
       "        (bn1): BatchNorm2d(64, eps=1e-05, momentum=0.1, affine=True, track_running_stats=True)\n",
       "        (relu): ReLU(inplace=True)\n",
       "        (conv2): Conv2d(64, 64, kernel_size=(3, 3), stride=(1, 1), padding=(1, 1), bias=False)\n",
       "        (bn2): BatchNorm2d(64, eps=1e-05, momentum=0.1, affine=True, track_running_stats=True)\n",
       "      )\n",
       "    )\n",
       "    (layer2): Sequential(\n",
       "      (0): BasicBlock(\n",
       "        (conv1): Conv2d(64, 128, kernel_size=(3, 3), stride=(2, 2), padding=(1, 1), bias=False)\n",
       "        (bn1): BatchNorm2d(128, eps=1e-05, momentum=0.1, affine=True, track_running_stats=True)\n",
       "        (relu): ReLU(inplace=True)\n",
       "        (conv2): Conv2d(128, 128, kernel_size=(3, 3), stride=(1, 1), padding=(1, 1), bias=False)\n",
       "        (bn2): BatchNorm2d(128, eps=1e-05, momentum=0.1, affine=True, track_running_stats=True)\n",
       "        (downsample): Sequential(\n",
       "          (0): Conv2d(64, 128, kernel_size=(1, 1), stride=(2, 2), bias=False)\n",
       "          (1): BatchNorm2d(128, eps=1e-05, momentum=0.1, affine=True, track_running_stats=True)\n",
       "        )\n",
       "      )\n",
       "      (1): BasicBlock(\n",
       "        (conv1): Conv2d(128, 128, kernel_size=(3, 3), stride=(1, 1), padding=(1, 1), bias=False)\n",
       "        (bn1): BatchNorm2d(128, eps=1e-05, momentum=0.1, affine=True, track_running_stats=True)\n",
       "        (relu): ReLU(inplace=True)\n",
       "        (conv2): Conv2d(128, 128, kernel_size=(3, 3), stride=(1, 1), padding=(1, 1), bias=False)\n",
       "        (bn2): BatchNorm2d(128, eps=1e-05, momentum=0.1, affine=True, track_running_stats=True)\n",
       "      )\n",
       "    )\n",
       "    (layer3): Sequential(\n",
       "      (0): BasicBlock(\n",
       "        (conv1): Conv2d(128, 256, kernel_size=(3, 3), stride=(2, 2), padding=(1, 1), bias=False)\n",
       "        (bn1): BatchNorm2d(256, eps=1e-05, momentum=0.1, affine=True, track_running_stats=True)\n",
       "        (relu): ReLU(inplace=True)\n",
       "        (conv2): Conv2d(256, 256, kernel_size=(3, 3), stride=(1, 1), padding=(1, 1), bias=False)\n",
       "        (bn2): BatchNorm2d(256, eps=1e-05, momentum=0.1, affine=True, track_running_stats=True)\n",
       "        (downsample): Sequential(\n",
       "          (0): Conv2d(128, 256, kernel_size=(1, 1), stride=(2, 2), bias=False)\n",
       "          (1): BatchNorm2d(256, eps=1e-05, momentum=0.1, affine=True, track_running_stats=True)\n",
       "        )\n",
       "      )\n",
       "      (1): BasicBlock(\n",
       "        (conv1): Conv2d(256, 256, kernel_size=(3, 3), stride=(1, 1), padding=(1, 1), bias=False)\n",
       "        (bn1): BatchNorm2d(256, eps=1e-05, momentum=0.1, affine=True, track_running_stats=True)\n",
       "        (relu): ReLU(inplace=True)\n",
       "        (conv2): Conv2d(256, 256, kernel_size=(3, 3), stride=(1, 1), padding=(1, 1), bias=False)\n",
       "        (bn2): BatchNorm2d(256, eps=1e-05, momentum=0.1, affine=True, track_running_stats=True)\n",
       "      )\n",
       "    )\n",
       "    (layer4): Sequential(\n",
       "      (0): BasicBlock(\n",
       "        (conv1): Conv2d(256, 512, kernel_size=(3, 3), stride=(2, 2), padding=(1, 1), bias=False)\n",
       "        (bn1): BatchNorm2d(512, eps=1e-05, momentum=0.1, affine=True, track_running_stats=True)\n",
       "        (relu): ReLU(inplace=True)\n",
       "        (conv2): Conv2d(512, 512, kernel_size=(3, 3), stride=(1, 1), padding=(1, 1), bias=False)\n",
       "        (bn2): BatchNorm2d(512, eps=1e-05, momentum=0.1, affine=True, track_running_stats=True)\n",
       "        (downsample): Sequential(\n",
       "          (0): Conv2d(256, 512, kernel_size=(1, 1), stride=(2, 2), bias=False)\n",
       "          (1): BatchNorm2d(512, eps=1e-05, momentum=0.1, affine=True, track_running_stats=True)\n",
       "        )\n",
       "      )\n",
       "      (1): BasicBlock(\n",
       "        (conv1): Conv2d(512, 512, kernel_size=(3, 3), stride=(1, 1), padding=(1, 1), bias=False)\n",
       "        (bn1): BatchNorm2d(512, eps=1e-05, momentum=0.1, affine=True, track_running_stats=True)\n",
       "        (relu): ReLU(inplace=True)\n",
       "        (conv2): Conv2d(512, 512, kernel_size=(3, 3), stride=(1, 1), padding=(1, 1), bias=False)\n",
       "        (bn2): BatchNorm2d(512, eps=1e-05, momentum=0.1, affine=True, track_running_stats=True)\n",
       "      )\n",
       "    )\n",
       "    (avgpool): AdaptiveAvgPool2d(output_size=(1, 1))\n",
       "    (fc): Linear(in_features=512, out_features=100, bias=True)\n",
       "  )\n",
       "  (criterion): CrossEntropyLoss()\n",
       ")"
      ]
     },
     "execution_count": 11,
     "metadata": {},
     "output_type": "execute_result"
    }
   ],
   "source": [
    "model.load_from_checkpoint('saved_model/resnet18_sgd_cifar100-epoch=9-val_loss=2.63-val_acc=0.34.ckpt')"
   ]
  },
  {
   "cell_type": "code",
   "execution_count": 12,
   "metadata": {},
   "outputs": [],
   "source": [
    "model.freeze()"
   ]
  },
  {
   "cell_type": "code",
   "execution_count": 13,
   "metadata": {},
   "outputs": [],
   "source": [
    "# use it for finetuning\n",
    "def forward(self, x):\n",
    "    features = pretrained_model(x)\n",
    "    classes = classifier(features)"
   ]
  },
  {
   "cell_type": "code",
   "execution_count": null,
   "metadata": {},
   "outputs": [],
   "source": []
  }
 ],
 "metadata": {
  "kernelspec": {
   "display_name": "Python 3",
   "language": "python",
   "name": "python3"
  },
  "language_info": {
   "codemirror_mode": {
    "name": "ipython",
    "version": 3
   },
   "file_extension": ".py",
   "mimetype": "text/x-python",
   "name": "python",
   "nbconvert_exporter": "python",
   "pygments_lexer": "ipython3",
   "version": "3.7.6"
  }
 },
 "nbformat": 4,
 "nbformat_minor": 4
}
